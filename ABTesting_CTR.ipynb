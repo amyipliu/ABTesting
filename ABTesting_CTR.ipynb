{
 "cells": [
  {
   "cell_type": "code",
   "execution_count": 1,
   "metadata": {
    "collapsed": true
   },
   "outputs": [],
   "source": [
    "import seaborn\n",
    "import matplotlib.pyplot as plt\n",
    "import numpy as np\n",
    "import scipy.stats as ss\n",
    "import pandas as pd\n",
    "%matplotlib inline"
   ]
  },
  {
   "cell_type": "markdown",
   "metadata": {},
   "source": [
    "The raw data contains 2000 actions of two type advertisement A and B. Action 1 means click, otherwise no click. We wish to identify statistical significance of user's reactions toward advertisements. "
   ]
  },
  {
   "cell_type": "code",
   "execution_count": 2,
   "metadata": {
    "collapsed": false
   },
   "outputs": [
    {
     "name": "stderr",
     "output_type": "stream",
     "text": [
      "/Users/yhhsu/Anaconda/anaconda/envs/ph2t/lib/python3.6/site-packages/seaborn/categorical.py:1460: FutureWarning: remove_na is deprecated and is a private function. Do not use.\n",
      "  stat_data = remove_na(group_data)\n"
     ]
    },
    {
     "data": {
      "text/plain": [
       "<seaborn.axisgrid.FacetGrid at 0x10d51c630>"
      ]
     },
     "execution_count": 2,
     "metadata": {},
     "output_type": "execute_result"
    },
    {
     "data": {
      "image/png": "[encoded data removed]",
      "text/plain": [
       "<matplotlib.figure.Figure at 0x10d51c7b8>"
      ]
     },
     "metadata": {},
     "output_type": "display_data"
    }
   ],
   "source": [
    "data_path = 'data/advertisement_clicks.csv'\n",
    "df2 = pd.read_csv(data_path)\n",
    "seaborn.factorplot(x='advertisement_id',y='action',data=df2,kind='bar')"
   ]
  },
  {
   "cell_type": "markdown",
   "metadata": {},
   "source": [
    "#### Two sample t-test\n",
    "Assuming 1. the sample are gaussian distribution (or bernouli? in ctr case) 2. sample sizes are equal 3. same variance. We have\n",
    "$$ t = \\frac{\\bar{X_1}-\\bar{X_2}}{S_p\\sqrt{2/N}} $$\n",
    "where $S_p$ is pooled standard deviation.\n",
    "$$ S_p = \\sqrt{\\frac{s^2_{X_1}+s^2_{X_2}}{2}} $$\n",
    "Note that its not always true for these assumptions. For example, for unequal sample size we have\n",
    "$$ t = \\frac{\\bar{X_1}-\\bar{X_2}}{S_p\\sqrt{1/n_1+1/n_2}} $$ \n",
    "where\n",
    "$$ S_p = \\sqrt{\\frac{(n_1-1)s^2_{X_1}+(n_2-1)s^2_{X_2}}{n_1+n_2-2}} $$\n",
    "For unequal sample sizes, unequal variances, we have Welch's t-test. (in scipy.stats.ttest_ind(equal_var=False)\n",
    "\n",
    "Further more, for non-gaussion distribution, we might try Kolmogorov-Smirnov(scipy.stats.kstest), Kruskal-Wallis(scipy.stats.kruskal) or Mann-Whitney U test (scipy.stats.mannwhitneyu)"
   ]
  },
  {
   "cell_type": "markdown",
   "metadata": {},
   "source": [
    "First we run T-test and then find the probability of exist such difference for null hypothesis (in this case, null hypothesis means that ctr are equal), namely p-value. \n",
    "> Wiki P-value - The probability for a given statistical model that, when the null hypothesis is true, the statistical summary (such as the sample mean difference between two compared groups) would be the same as or of greater magnitude than the actual observed results\n",
    "\n",
    "If p-value is smaller than confidence threshold $\\alpha$, we reject the null hypothesis and say that they are truely different. "
   ]
  },
  {
   "cell_type": "code",
   "execution_count": 3,
   "metadata": {
    "collapsed": false
   },
   "outputs": [],
   "source": [
    "ad_A = df2.loc[df2.advertisement_id=='A','action'].values\n",
    "ad_B = df2.loc[df2.advertisement_id=='B','action'].values"
   ]
  },
  {
   "cell_type": "code",
   "execution_count": 4,
   "metadata": {
    "collapsed": false
   },
   "outputs": [
    {
     "name": "stdout",
     "output_type": "stream",
     "text": [
      "t:\t -3.2211732138 p2:\t 0.00129719054671\n"
     ]
    }
   ],
   "source": [
    "t, p = ss.ttest_ind(ad_A, ad_B)\n",
    "print(\"t:\\t\", t, \"p2:\\t\", p)"
   ]
  },
  {
   "cell_type": "markdown",
   "metadata": {},
   "source": [
    "Note that in scipy.stats.ttest_ind implement \"two-side\" test, means that our hypothesis has assumptions \"mean(A) gt mean(B) or mean(A) lt mean(B)\" In the other hand, one side means we only test that \"mean(A) gt mean(B)\".\n",
    "Therefore, in this case, if our confidence threshold is 5%, than we can say that at confidence level 95% we observed the difference mean of two distributions are true."
   ]
  },
  {
   "cell_type": "markdown",
   "metadata": {},
   "source": [
    "#### chi2 test\n",
    "Alternatively, we can test chi2"
   ]
  },
  {
   "cell_type": "code",
   "execution_count": 5,
   "metadata": {
    "collapsed": true
   },
   "outputs": [],
   "source": [
    "A_clk = ad_A.sum()\n",
    "A_noclk = ad_A.size - ad_A.sum()\n",
    "B_clk = ad_B.sum()\n",
    "B_noclk = ad_B.size - ad_B.sum()\n",
    "T = np.array([[A_clk, A_noclk], [B_clk, B_noclk]])"
   ]
  },
  {
   "cell_type": "code",
   "execution_count": 6,
   "metadata": {
    "collapsed": false
   },
   "outputs": [
    {
     "name": "stdout",
     "output_type": "stream",
     "text": [
      "0.00130695027321\n"
     ]
    }
   ],
   "source": [
    "def get_p_value(T):\n",
    "    det = T[0,0]*T[1,1] - T[0,1]*T[1,0]\n",
    "    c2 = float(det) / T[0].sum() * det / T[1].sum() * T.sum() / T[:,0].sum() / T[:,1].sum()\n",
    "    p = 1 - ss.chi2.cdf(x=c2, df=1)\n",
    "    return p\n",
    "print(get_p_value(T))"
   ]
  },
  {
   "cell_type": "code",
   "execution_count": 7,
   "metadata": {
    "collapsed": false
   },
   "outputs": [
    {
     "data": {
      "text/plain": [
       "(10.332683816299898, 0.0013069502732125406, 1, array([[ 338.,  662.],\n",
       "        [ 338.,  662.]]))"
      ]
     },
     "execution_count": 7,
     "metadata": {},
     "output_type": "execute_result"
    }
   ],
   "source": [
    "ss.chi2_contingency(T, correction=False)"
   ]
  }
 ],
 "metadata": {
  "anaconda-cloud": {},
  "kernelspec": {
   "display_name": "Python [conda env:ph2t]",
   "language": "python",
   "name": "conda-env-ph2t-py"
  },
  "language_info": {
   "codemirror_mode": {
    "name": "ipython",
    "version": 3
   },
   "file_extension": ".py",
   "mimetype": "text/x-python",
   "name": "python",
   "nbconvert_exporter": "python",
   "pygments_lexer": "ipython3",
   "version": "3.6.2"
  }
 },
 "nbformat": 4,
 "nbformat_minor": 1
}
